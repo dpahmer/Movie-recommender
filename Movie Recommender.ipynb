{
 "cells": [
  {
   "cell_type": "markdown",
   "id": "dbc1affc",
   "metadata": {},
   "source": [
    "#### Using the small MovieLens data set, this program allows users to input a movie they like (in the data set) and recommends ten other movies for them to watch. "
   ]
  },
  {
   "cell_type": "markdown",
   "id": "cf89ab94",
   "metadata": {},
   "source": [
    "For this task, we will use a correlation based recommender."
   ]
  },
  {
   "cell_type": "code",
   "execution_count": 1,
   "id": "95d83821",
   "metadata": {},
   "outputs": [],
   "source": [
    "import pandas as pd\n",
    "import numpy as np\n",
    "import warnings\n",
    "rat=pd.read_csv('ratings.csv')\n",
    "mov=pd.read_csv('movies.csv')"
   ]
  },
  {
   "cell_type": "code",
   "execution_count": 3,
   "id": "40ac5abe",
   "metadata": {},
   "outputs": [
    {
     "data": {
      "text/html": [
       "<div>\n",
       "<style scoped>\n",
       "    .dataframe tbody tr th:only-of-type {\n",
       "        vertical-align: middle;\n",
       "    }\n",
       "\n",
       "    .dataframe tbody tr th {\n",
       "        vertical-align: top;\n",
       "    }\n",
       "\n",
       "    .dataframe thead th {\n",
       "        text-align: right;\n",
       "    }\n",
       "</style>\n",
       "<table border=\"1\" class=\"dataframe\">\n",
       "  <thead>\n",
       "    <tr style=\"text-align: right;\">\n",
       "      <th></th>\n",
       "      <th>movieId</th>\n",
       "      <th>title</th>\n",
       "      <th>genres</th>\n",
       "    </tr>\n",
       "  </thead>\n",
       "  <tbody>\n",
       "    <tr>\n",
       "      <th>0</th>\n",
       "      <td>1</td>\n",
       "      <td>Toy Story (1995)</td>\n",
       "      <td>Adventure|Animation|Children|Comedy|Fantasy</td>\n",
       "    </tr>\n",
       "    <tr>\n",
       "      <th>1</th>\n",
       "      <td>2</td>\n",
       "      <td>Jumanji (1995)</td>\n",
       "      <td>Adventure|Children|Fantasy</td>\n",
       "    </tr>\n",
       "    <tr>\n",
       "      <th>2</th>\n",
       "      <td>3</td>\n",
       "      <td>Grumpier Old Men (1995)</td>\n",
       "      <td>Comedy|Romance</td>\n",
       "    </tr>\n",
       "    <tr>\n",
       "      <th>3</th>\n",
       "      <td>4</td>\n",
       "      <td>Waiting to Exhale (1995)</td>\n",
       "      <td>Comedy|Drama|Romance</td>\n",
       "    </tr>\n",
       "    <tr>\n",
       "      <th>4</th>\n",
       "      <td>5</td>\n",
       "      <td>Father of the Bride Part II (1995)</td>\n",
       "      <td>Comedy</td>\n",
       "    </tr>\n",
       "  </tbody>\n",
       "</table>\n",
       "</div>"
      ],
      "text/plain": [
       "   movieId                               title  \\\n",
       "0        1                    Toy Story (1995)   \n",
       "1        2                      Jumanji (1995)   \n",
       "2        3             Grumpier Old Men (1995)   \n",
       "3        4            Waiting to Exhale (1995)   \n",
       "4        5  Father of the Bride Part II (1995)   \n",
       "\n",
       "                                        genres  \n",
       "0  Adventure|Animation|Children|Comedy|Fantasy  \n",
       "1                   Adventure|Children|Fantasy  \n",
       "2                               Comedy|Romance  \n",
       "3                         Comedy|Drama|Romance  \n",
       "4                                       Comedy  "
      ]
     },
     "execution_count": 3,
     "metadata": {},
     "output_type": "execute_result"
    }
   ],
   "source": [
    "mov.head()"
   ]
  },
  {
   "cell_type": "code",
   "execution_count": 4,
   "id": "a353589e",
   "metadata": {},
   "outputs": [],
   "source": [
    "rat=rat.drop('timestamp',axis=1)"
   ]
  },
  {
   "cell_type": "code",
   "execution_count": 5,
   "id": "80e1981f",
   "metadata": {},
   "outputs": [
    {
     "data": {
      "text/plain": [
       "(9742, 3)"
      ]
     },
     "execution_count": 5,
     "metadata": {},
     "output_type": "execute_result"
    }
   ],
   "source": [
    "mov.shape"
   ]
  },
  {
   "cell_type": "markdown",
   "id": "3dc65c29",
   "metadata": {},
   "source": [
    "So there are 9742 movies in this database."
   ]
  },
  {
   "cell_type": "code",
   "execution_count": 6,
   "id": "c9164173",
   "metadata": {},
   "outputs": [
    {
     "data": {
      "text/plain": [
       "(100836, 3)"
      ]
     },
     "execution_count": 6,
     "metadata": {},
     "output_type": "execute_result"
    }
   ],
   "source": [
    "rat.shape"
   ]
  },
  {
   "cell_type": "markdown",
   "id": "1b852651",
   "metadata": {},
   "source": [
    "So with about 100,000 ratings of about 10,000 movies, we see that there are 10 ratings per movie, on average.  \n",
    "Now let's attach titles to the ratings."
   ]
  },
  {
   "cell_type": "code",
   "execution_count": 7,
   "id": "9e384719",
   "metadata": {},
   "outputs": [],
   "source": [
    "rat2=rat.merge(mov, on='movieId', how='left')"
   ]
  },
  {
   "cell_type": "markdown",
   "id": "c1e010f1",
   "metadata": {},
   "source": [
    "Perhaps it is worthwhile to know how many ratings any given movie has in the database."
   ]
  },
  {
   "cell_type": "code",
   "execution_count": 8,
   "id": "919e85df",
   "metadata": {},
   "outputs": [
    {
     "data": {
      "text/plain": [
       "title\n",
       "'71 (2014)                                 1\n",
       "'Hellboy': The Seeds of Creation (2004)    1\n",
       "'Round Midnight (1986)                     2\n",
       "'Salem's Lot (2004)                        1\n",
       "'Til There Was You (1997)                  2\n",
       "Name: rating, dtype: int64"
      ]
     },
     "execution_count": 8,
     "metadata": {},
     "output_type": "execute_result"
    }
   ],
   "source": [
    "numratings=rat2.groupby('title')['rating'].count()\n",
    "numratings.head()"
   ]
  },
  {
   "cell_type": "markdown",
   "id": "d65f5638",
   "metadata": {},
   "source": [
    "Now we can build the reshaped table with each movie in its own column, and each person writing the reviews in their own row. "
   ]
  },
  {
   "cell_type": "code",
   "execution_count": 9,
   "id": "0096bdd7",
   "metadata": {},
   "outputs": [],
   "source": [
    "bigtable=rat2.pivot_table(index='userId',columns='title',values='rating' )"
   ]
  },
  {
   "cell_type": "code",
   "execution_count": 10,
   "id": "c17642e1",
   "metadata": {},
   "outputs": [
    {
     "data": {
      "text/plain": [
       "(610, 9719)"
      ]
     },
     "execution_count": 10,
     "metadata": {},
     "output_type": "execute_result"
    }
   ],
   "source": [
    "bigtable.shape"
   ]
  },
  {
   "cell_type": "markdown",
   "id": "fa070134",
   "metadata": {},
   "source": [
    "That's mysterious- what happened to the other 23 movies? Maybe their titles could not be made into columns? After all, there were no missing titles."
   ]
  },
  {
   "cell_type": "code",
   "execution_count": 12,
   "id": "abefcf53",
   "metadata": {},
   "outputs": [],
   "source": [
    "warnings.simplefilter(\"ignore\")"
   ]
  },
  {
   "cell_type": "markdown",
   "id": "18b7f757",
   "metadata": {},
   "source": [
    "Once that's ready we can start the program!"
   ]
  },
  {
   "cell_type": "markdown",
   "id": "8a9f0c46",
   "metadata": {},
   "source": [
    "Let's get a movie selection from the user. However, looking at the titles we see that they want the year of the movie's release as part of the title, so we will prompt the user for a few samples as a convenience."
   ]
  },
  {
   "cell_type": "code",
   "execution_count": 14,
   "id": "f5a61535",
   "metadata": {},
   "outputs": [
    {
     "name": "stdout",
     "output_type": "stream",
     "text": [
      "Choose a movie that you enjoy, including the year of release.\n",
      "Here are a few options:\n",
      "['Young Guns (1988)' 'Boys from Brazil, The (1978)' 'Duchess, The (2008)'\n",
      " 'Lost Skeleton of Cadavra, The (2002)' \"Dad's Army (1971)\"]\n",
      "Young Guns (1988)\n",
      "\n",
      "\n",
      "\n",
      "Here are a number of movies that you may enjoy if you enjoyed Young Guns (1988)\n",
      "\n",
      "                                                           0  rating\n",
      "title                                                               \n",
      "Eyes Wide Shut (1999)                               0.934439      53\n",
      "Spirited Away (Sen to Chihiro no kamikakushi) (...  0.878310      87\n",
      "Superbad (2007)                                     0.857690      55\n",
      "No Country for Old Men (2007)                       0.843527      64\n",
      "Up (2009)                                           0.833333     105\n",
      "Bourne Identity, The (2002)                         0.810501     112\n",
      "Toy Story 3 (2010)                                  0.805837      55\n",
      "Naked Gun 33 1/3: The Final Insult (1994)           0.803479      58\n",
      "Demolition Man (1993)                               0.802767      81\n",
      "American Pie (1999)                                 0.772710     103\n"
     ]
    }
   ],
   "source": [
    "valid=False\n",
    "while valid==False:\n",
    "    r=np.random.default_rng()\n",
    "    rand=r.integers (9742, size=5)\n",
    "\n",
    "    prompt= str('Choose a movie that you enjoy, including the year of release.\\n'+ \n",
    "                'Here are a few options:\\n'+ str(mov.title[rand].values)+'\\n')\n",
    "    movchoice=input(prompt)\n",
    "    if movchoice in mov.title.values:\n",
    "        valid=True\n",
    "    else:\n",
    "        print('You entered ',movchoice)\n",
    "        again=input('That movie name or year is not in the list. Would you like to try again? (y/n)')\n",
    "        if again !='y':\n",
    "            print ('OK, goodbye\\n')\n",
    "            break\n",
    "\n",
    "\n",
    "if valid==True:\n",
    "    print('\\n\\n')\n",
    "    # This is the main engine- the 'correlate with' method\n",
    "    corr2=bigtable.corrwith(bigtable[movchoice])\n",
    "    corr2.dropna(inplace=True)\n",
    "    corr2=pd.DataFrame(corr2).join(numratings, on='title')\n",
    "    corr2=corr2[corr2['rating']>50]\n",
    "    if len(corr2)>0:\n",
    "        print('Here are a number of movies that you may enjoy if you enjoyed '+ movchoice+'\\n')\n",
    "        print(corr2.sort_values(0, ascending=False).head(10))\n",
    "    else:\n",
    "        print('Unfortunately, it seems that I cannot recommend anything reliably. Try a different movie next time.')"
   ]
  },
  {
   "cell_type": "markdown",
   "id": "77671370",
   "metadata": {},
   "source": [
    "Works great!"
   ]
  }
 ],
 "metadata": {
  "kernelspec": {
   "display_name": "Python 3 (ipykernel)",
   "language": "python",
   "name": "python3"
  },
  "language_info": {
   "codemirror_mode": {
    "name": "ipython",
    "version": 3
   },
   "file_extension": ".py",
   "mimetype": "text/x-python",
   "name": "python",
   "nbconvert_exporter": "python",
   "pygments_lexer": "ipython3",
   "version": "3.9.16"
  }
 },
 "nbformat": 4,
 "nbformat_minor": 5
}
